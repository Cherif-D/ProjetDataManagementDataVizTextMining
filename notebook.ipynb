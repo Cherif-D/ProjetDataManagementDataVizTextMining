{
 "cells": [
  {
   "cell_type": "code",
   "execution_count": 1,
   "id": "ac91f35f",
   "metadata": {},
   "outputs": [],
   "source": [
    "import numpy as np\n",
    "import pandas as pd"
   ]
  },
  {
   "cell_type": "markdown",
   "id": "afbc4393",
   "metadata": {},
   "source": [
    "Lecture du fichier csv téléchargé   "
   ]
  },
  {
   "cell_type": "code",
   "execution_count": 4,
   "id": "e7951359",
   "metadata": {},
   "outputs": [
    {
     "data": {
      "text/html": [
       "<div>\n",
       "<style scoped>\n",
       "    .dataframe tbody tr th:only-of-type {\n",
       "        vertical-align: middle;\n",
       "    }\n",
       "\n",
       "    .dataframe tbody tr th {\n",
       "        vertical-align: top;\n",
       "    }\n",
       "\n",
       "    .dataframe thead th {\n",
       "        text-align: right;\n",
       "    }\n",
       "</style>\n",
       "<table border=\"1\" class=\"dataframe\">\n",
       "  <thead>\n",
       "    <tr style=\"text-align: right;\">\n",
       "      <th></th>\n",
       "      <th>Date</th>\n",
       "      <th>Ticker</th>\n",
       "      <th>Prix</th>\n",
       "    </tr>\n",
       "  </thead>\n",
       "  <tbody>\n",
       "    <tr>\n",
       "      <th>0</th>\n",
       "      <td>2000-01-03</td>\n",
       "      <td>AAPL</td>\n",
       "      <td>0.841048</td>\n",
       "    </tr>\n",
       "    <tr>\n",
       "      <th>1</th>\n",
       "      <td>2000-01-04</td>\n",
       "      <td>AAPL</td>\n",
       "      <td>0.770139</td>\n",
       "    </tr>\n",
       "    <tr>\n",
       "      <th>2</th>\n",
       "      <td>2000-01-05</td>\n",
       "      <td>AAPL</td>\n",
       "      <td>0.781409</td>\n",
       "    </tr>\n",
       "    <tr>\n",
       "      <th>3</th>\n",
       "      <td>2000-01-06</td>\n",
       "      <td>AAPL</td>\n",
       "      <td>0.713786</td>\n",
       "    </tr>\n",
       "    <tr>\n",
       "      <th>4</th>\n",
       "      <td>2000-01-07</td>\n",
       "      <td>AAPL</td>\n",
       "      <td>0.747598</td>\n",
       "    </tr>\n",
       "    <tr>\n",
       "      <th>...</th>\n",
       "      <td>...</td>\n",
       "      <td>...</td>\n",
       "      <td>...</td>\n",
       "    </tr>\n",
       "    <tr>\n",
       "      <th>410130</th>\n",
       "      <td>2024-12-26</td>\n",
       "      <td>TMUS</td>\n",
       "      <td>222.115051</td>\n",
       "    </tr>\n",
       "    <tr>\n",
       "      <th>410131</th>\n",
       "      <td>2024-12-27</td>\n",
       "      <td>TMUS</td>\n",
       "      <td>221.459686</td>\n",
       "    </tr>\n",
       "    <tr>\n",
       "      <th>410132</th>\n",
       "      <td>2024-12-28</td>\n",
       "      <td>TMUS</td>\n",
       "      <td>NaN</td>\n",
       "    </tr>\n",
       "    <tr>\n",
       "      <th>410133</th>\n",
       "      <td>2024-12-29</td>\n",
       "      <td>TMUS</td>\n",
       "      <td>NaN</td>\n",
       "    </tr>\n",
       "    <tr>\n",
       "      <th>410134</th>\n",
       "      <td>2024-12-30</td>\n",
       "      <td>TMUS</td>\n",
       "      <td>219.116196</td>\n",
       "    </tr>\n",
       "  </tbody>\n",
       "</table>\n",
       "<p>410135 rows × 3 columns</p>\n",
       "</div>"
      ],
      "text/plain": [
       "              Date Ticker        Prix\n",
       "0       2000-01-03   AAPL    0.841048\n",
       "1       2000-01-04   AAPL    0.770139\n",
       "2       2000-01-05   AAPL    0.781409\n",
       "3       2000-01-06   AAPL    0.713786\n",
       "4       2000-01-07   AAPL    0.747598\n",
       "...            ...    ...         ...\n",
       "410130  2024-12-26   TMUS  222.115051\n",
       "410131  2024-12-27   TMUS  221.459686\n",
       "410132  2024-12-28   TMUS         NaN\n",
       "410133  2024-12-29   TMUS         NaN\n",
       "410134  2024-12-30   TMUS  219.116196\n",
       "\n",
       "[410135 rows x 3 columns]"
      ]
     },
     "execution_count": 4,
     "metadata": {},
     "output_type": "execute_result"
    }
   ],
   "source": [
    "df = pd.read_csv(\"Data/donnees_financieres_300k_lignes.csv\")\n",
    "df"
   ]
  },
  {
   "cell_type": "code",
   "execution_count": 5,
   "id": "89c30818",
   "metadata": {},
   "outputs": [
    {
     "name": "stdout",
     "output_type": "stream",
     "text": [
      "         Date Ticker      Prix\n",
      "0  2000-01-03   AAPL  0.841048\n",
      "1  2000-01-04   AAPL  0.770139\n",
      "2  2000-01-05   AAPL  0.781409\n",
      "3  2000-01-06   AAPL  0.713786\n",
      "4  2000-01-07   AAPL  0.747598\n",
      "5  2000-01-10   AAPL  0.734449\n",
      "6  2000-01-11   AAPL  0.696881\n",
      "7  2000-01-12   AAPL  0.655088\n",
      "8  2000-01-13   AAPL  0.726935\n",
      "9  2000-01-14   AAPL  0.754642\n"
     ]
    }
   ],
   "source": [
    "print(df.head(10))  # Affiche les 5 premières lignes"
   ]
  },
  {
   "cell_type": "code",
   "execution_count": 6,
   "id": "6c78e5de",
   "metadata": {},
   "outputs": [
    {
     "data": {
      "text/plain": [
       "Index(['Date', 'Ticker', 'Prix'], dtype='object')"
      ]
     },
     "execution_count": 6,
     "metadata": {},
     "output_type": "execute_result"
    }
   ],
   "source": [
    "df.columns\n"
   ]
  },
  {
   "cell_type": "code",
   "execution_count": 7,
   "id": "c8a08e0f",
   "metadata": {},
   "outputs": [
    {
     "data": {
      "text/plain": [
       "RangeIndex(start=0, stop=410135, step=1)"
      ]
     },
     "execution_count": 7,
     "metadata": {},
     "output_type": "execute_result"
    }
   ],
   "source": [
    "df.index"
   ]
  },
  {
   "cell_type": "code",
   "execution_count": 8,
   "id": "d78d1d53",
   "metadata": {},
   "outputs": [
    {
     "name": "stdout",
     "output_type": "stream",
     "text": [
      "<class 'pandas.core.frame.DataFrame'>\n",
      "RangeIndex: 410135 entries, 0 to 410134\n",
      "Data columns (total 3 columns):\n",
      " #   Column  Non-Null Count   Dtype  \n",
      "---  ------  --------------   -----  \n",
      " 0   Date    410135 non-null  object \n",
      " 1   Ticker  410135 non-null  object \n",
      " 2   Prix    309504 non-null  float64\n",
      "dtypes: float64(1), object(2)\n",
      "memory usage: 9.4+ MB\n"
     ]
    }
   ],
   "source": [
    "df.info()"
   ]
  },
  {
   "cell_type": "code",
   "execution_count": 9,
   "id": "2d4236b0",
   "metadata": {},
   "outputs": [],
   "source": [
    "df['Date'] = pd.to_datetime(df['Date'])"
   ]
  },
  {
   "cell_type": "code",
   "execution_count": 10,
   "id": "2ddf4f74",
   "metadata": {},
   "outputs": [
    {
     "name": "stdout",
     "output_type": "stream",
     "text": [
      "<class 'pandas.core.frame.DataFrame'>\n",
      "RangeIndex: 410135 entries, 0 to 410134\n",
      "Data columns (total 3 columns):\n",
      " #   Column  Non-Null Count   Dtype         \n",
      "---  ------  --------------   -----         \n",
      " 0   Date    410135 non-null  datetime64[ns]\n",
      " 1   Ticker  410135 non-null  object        \n",
      " 2   Prix    309504 non-null  float64       \n",
      "dtypes: datetime64[ns](1), float64(1), object(1)\n",
      "memory usage: 9.4+ MB\n"
     ]
    }
   ],
   "source": [
    "df.info()"
   ]
  },
  {
   "cell_type": "code",
   "execution_count": 11,
   "id": "f29002fe",
   "metadata": {},
   "outputs": [],
   "source": [
    "df['Ticker'] = df['Ticker'].astype('string')  # Conversion en string"
   ]
  },
  {
   "cell_type": "code",
   "execution_count": 12,
   "id": "819b7256",
   "metadata": {},
   "outputs": [
    {
     "name": "stdout",
     "output_type": "stream",
     "text": [
      "<class 'pandas.core.frame.DataFrame'>\n",
      "RangeIndex: 410135 entries, 0 to 410134\n",
      "Data columns (total 3 columns):\n",
      " #   Column  Non-Null Count   Dtype         \n",
      "---  ------  --------------   -----         \n",
      " 0   Date    410135 non-null  datetime64[ns]\n",
      " 1   Ticker  410135 non-null  string        \n",
      " 2   Prix    309504 non-null  float64       \n",
      "dtypes: datetime64[ns](1), float64(1), string(1)\n",
      "memory usage: 9.4 MB\n"
     ]
    }
   ],
   "source": [
    "df.info()"
   ]
  },
  {
   "cell_type": "code",
   "execution_count": 13,
   "id": "a3432afa",
   "metadata": {},
   "outputs": [
    {
     "data": {
      "text/plain": [
       "(410135, 3)"
      ]
     },
     "execution_count": 13,
     "metadata": {},
     "output_type": "execute_result"
    }
   ],
   "source": [
    "df.shape"
   ]
  },
  {
   "cell_type": "code",
   "execution_count": null,
   "id": "c33acdc1",
   "metadata": {},
   "outputs": [
    {
     "data": {
      "text/html": [
       "<div>\n",
       "<style scoped>\n",
       "    .dataframe tbody tr th:only-of-type {\n",
       "        vertical-align: middle;\n",
       "    }\n",
       "\n",
       "    .dataframe tbody tr th {\n",
       "        vertical-align: top;\n",
       "    }\n",
       "\n",
       "    .dataframe thead th {\n",
       "        text-align: right;\n",
       "    }\n",
       "</style>\n",
       "<table border=\"1\" class=\"dataframe\">\n",
       "  <thead>\n",
       "    <tr style=\"text-align: right;\">\n",
       "      <th></th>\n",
       "      <th>Date</th>\n",
       "      <th>Prix</th>\n",
       "    </tr>\n",
       "  </thead>\n",
       "  <tbody>\n",
       "    <tr>\n",
       "      <th>count</th>\n",
       "      <td>410135</td>\n",
       "      <td>309504.000000</td>\n",
       "    </tr>\n",
       "    <tr>\n",
       "      <th>mean</th>\n",
       "      <td>2013-08-27 15:47:57.779267584</td>\n",
       "      <td>326.550231</td>\n",
       "    </tr>\n",
       "    <tr>\n",
       "      <th>min</th>\n",
       "      <td>2000-01-03 00:00:00</td>\n",
       "      <td>0.056319</td>\n",
       "    </tr>\n",
       "    <tr>\n",
       "      <th>25%</th>\n",
       "      <td>2007-06-05 00:00:00</td>\n",
       "      <td>19.721205</td>\n",
       "    </tr>\n",
       "    <tr>\n",
       "      <th>50%</th>\n",
       "      <td>2014-10-16 00:00:00</td>\n",
       "      <td>41.920311</td>\n",
       "    </tr>\n",
       "    <tr>\n",
       "      <th>75%</th>\n",
       "      <td>2019-11-23 00:00:00</td>\n",
       "      <td>100.769588</td>\n",
       "    </tr>\n",
       "    <tr>\n",
       "      <th>max</th>\n",
       "      <td>2024-12-30 00:00:00</td>\n",
       "      <td>106140.601562</td>\n",
       "    </tr>\n",
       "    <tr>\n",
       "      <th>std</th>\n",
       "      <td>NaN</td>\n",
       "      <td>3242.860602</td>\n",
       "    </tr>\n",
       "  </tbody>\n",
       "</table>\n",
       "</div>"
      ],
      "text/plain": [
       "                                Date           Prix\n",
       "count                         410135  309504.000000\n",
       "mean   2013-08-27 15:47:57.779267584     326.550231\n",
       "min              2000-01-03 00:00:00       0.056319\n",
       "25%              2007-06-05 00:00:00      19.721205\n",
       "50%              2014-10-16 00:00:00      41.920311\n",
       "75%              2019-11-23 00:00:00     100.769588\n",
       "max              2024-12-30 00:00:00  106140.601562\n",
       "std                              NaN    3242.860602"
      ]
     },
     "execution_count": 16,
     "metadata": {},
     "output_type": "execute_result"
    }
   ],
   "source": [
    "df.describe()  # Affiche les statistiques descriptives\n",
    "#df.describe(include='all')  # Inclut les colonnes non numériques"
   ]
  }
 ],
 "metadata": {
  "kernelspec": {
   "display_name": "env",
   "language": "python",
   "name": "python3"
  },
  "language_info": {
   "codemirror_mode": {
    "name": "ipython",
    "version": 3
   },
   "file_extension": ".py",
   "mimetype": "text/x-python",
   "name": "python",
   "nbconvert_exporter": "python",
   "pygments_lexer": "ipython3",
   "version": "3.10.0"
  }
 },
 "nbformat": 4,
 "nbformat_minor": 5
}
